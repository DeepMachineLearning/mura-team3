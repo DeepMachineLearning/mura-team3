{
 "cells": [
  {
   "cell_type": "code",
   "execution_count": 1,
   "metadata": {},
   "outputs": [],
   "source": [
    "%matplotlib inline\n",
    "%load_ext autotime"
   ]
  },
  {
   "cell_type": "code",
   "execution_count": 2,
   "metadata": {},
   "outputs": [
    {
     "name": "stderr",
     "output_type": "stream",
     "text": [
      "/Users/troy/anaconda3/lib/python3.6/site-packages/h5py/__init__.py:36: FutureWarning: Conversion of the second argument of issubdtype from `float` to `np.floating` is deprecated. In future, it will be treated as `np.float64 == np.dtype(float).type`.\n",
      "  from ._conv import register_converters as _register_converters\n",
      "Using TensorFlow backend.\n"
     ]
    },
    {
     "name": "stdout",
     "output_type": "stream",
     "text": [
      "time: 1.9 s\n"
     ]
    }
   ],
   "source": [
    "import  matplotlib.pylab as plt\n",
    "import numpy as np\n",
    "from  keras.models import Sequential \n",
    "from keras.utils import np_utils\n",
    "from keras.datasets import mnist \n",
    "from keras.layers import Conv2D, MaxPooling2D, Flatten, Dropout, Dense\n",
    "from keras.optimizers import adam\n",
    "from keras.layers.normalization import BatchNormalization\n",
    "from keras.applications.mobilenet import MobileNet\n"
   ]
  },
  {
   "cell_type": "code",
   "execution_count": 61,
   "metadata": {},
   "outputs": [
    {
     "name": "stdout",
     "output_type": "stream",
     "text": [
      "time: 316 ms\n"
     ]
    }
   ],
   "source": [
    "(x_train, y_train), (x_test, y_test) = mnist.load_data()"
   ]
  },
  {
   "cell_type": "code",
   "execution_count": 62,
   "metadata": {},
   "outputs": [
    {
     "data": {
      "text/plain": [
       "(60000, 28, 28)"
      ]
     },
     "execution_count": 62,
     "metadata": {},
     "output_type": "execute_result"
    },
    {
     "name": "stdout",
     "output_type": "stream",
     "text": [
      "time: 2.23 ms\n"
     ]
    }
   ],
   "source": [
    "x_train.shape"
   ]
  },
  {
   "cell_type": "code",
   "execution_count": 64,
   "metadata": {},
   "outputs": [
    {
     "data": {
      "text/plain": [
       "<matplotlib.image.AxesImage at 0xb33215898>"
      ]
     },
     "execution_count": 64,
     "metadata": {},
     "output_type": "execute_result"
    },
    {
     "data": {
      "image/png": "[encoded data removed]",
      "text/plain": [
       "<Figure size 432x288 with 1 Axes>"
      ]
     },
     "metadata": {},
     "output_type": "display_data"
    },
    {
     "name": "stdout",
     "output_type": "stream",
     "text": [
      "time: 102 ms\n"
     ]
    }
   ],
   "source": [
    "plt.imshow(x_train[0], cmap='gray')"
   ]
  },
  {
   "cell_type": "code",
   "execution_count": 71,
   "metadata": {},
   "outputs": [
    {
     "name": "stdout",
     "output_type": "stream",
     "text": [
      "time: 1.08 ms\n"
     ]
    }
   ],
   "source": [
    "height, width = (28,28)\n",
    "x_train = x_train.reshape(x_train.shape[0], width, height, 1)\n",
    "x_test = x_test.reshape(x_test.shape[0], width, height, 1)"
   ]
  },
  {
   "cell_type": "code",
   "execution_count": 7,
   "metadata": {},
   "outputs": [
    {
     "data": {
      "text/plain": [
       "(60000, 28, 28, 1)"
      ]
     },
     "execution_count": 7,
     "metadata": {},
     "output_type": "execute_result"
    },
    {
     "name": "stdout",
     "output_type": "stream",
     "text": [
      "time: 2.38 ms\n"
     ]
    }
   ],
   "source": [
    "x_train.shape"
   ]
  },
  {
   "cell_type": "code",
   "execution_count": 8,
   "metadata": {},
   "outputs": [
    {
     "data": {
      "text/plain": [
       "array([5, 0, 4, ..., 5, 6, 8], dtype=uint8)"
      ]
     },
     "execution_count": 8,
     "metadata": {},
     "output_type": "execute_result"
    },
    {
     "name": "stdout",
     "output_type": "stream",
     "text": [
      "time: 2.21 ms\n"
     ]
    }
   ],
   "source": [
    "y_train"
   ]
  },
  {
   "cell_type": "code",
   "execution_count": 70,
   "metadata": {},
   "outputs": [
    {
     "name": "stdout",
     "output_type": "stream",
     "text": [
      "time: 3.55 ms\n"
     ]
    }
   ],
   "source": [
    "y_train = np_utils.to_categorical(y_train,10)\n",
    "y_test  = np_utils.to_categorical(y_test, 10)"
   ]
  },
  {
   "cell_type": "code",
   "execution_count": 10,
   "metadata": {},
   "outputs": [
    {
     "data": {
      "text/plain": [
       "(60000, 10)"
      ]
     },
     "execution_count": 10,
     "metadata": {},
     "output_type": "execute_result"
    },
    {
     "name": "stdout",
     "output_type": "stream",
     "text": [
      "time: 1.85 ms\n"
     ]
    }
   ],
   "source": [
    "y_train.shape"
   ]
  },
  {
   "cell_type": "code",
   "execution_count": 11,
   "metadata": {},
   "outputs": [
    {
     "name": "stdout",
     "output_type": "stream",
     "text": [
      "time: 334 ms\n"
     ]
    }
   ],
   "source": [
    "#  Building the CNN\n",
    "def build_model():\n",
    "    model = Sequential()\n",
    "\n",
    "    model.add(Conv2D(32, (3,3),  activation='relu',input_shape=(width,height,1)))\n",
    "    model.add(Conv2D(32, (3,3),  activation='relu'))\n",
    "    model.add(MaxPooling2D(pool_size=(2, 2)))\n",
    "    model.add(Dropout(0.25))\n",
    "    model.add(BatchNormalization(scale=False, center=False))\n",
    "    \n",
    "    model.add(Conv2D(64, (3,3), activation='relu'))\n",
    "    model.add(Conv2D(64, (3,3), activation='relu'))\n",
    "    model.add(MaxPooling2D((2,2)))\n",
    "    model.add(Dropout(0.2))\n",
    "    model.add(BatchNormalization(scale=False, center=False))\n",
    "\n",
    "    model.add(Flatten())\n",
    "    model.add(Dense(256, activation = 'relu'))\n",
    "    model.add(Dropout(0.2))\n",
    "    model.add(BatchNormalization())\n",
    "\n",
    "    model.add(Dense(10, activation='softmax'))\n",
    "\n",
    "    return model\n",
    "\n",
    "\n",
    "model = build_model()"
   ]
  },
  {
   "cell_type": "code",
   "execution_count": 12,
   "metadata": {},
   "outputs": [
    {
     "name": "stdout",
     "output_type": "stream",
     "text": [
      "time: 33.4 ms\n"
     ]
    }
   ],
   "source": [
    "model.compile(optimizer='adam', loss='categorical_crossentropy', metrics=['accuracy'])"
   ]
  },
  {
   "cell_type": "code",
   "execution_count": 13,
   "metadata": {},
   "outputs": [
    {
     "name": "stdout",
     "output_type": "stream",
     "text": [
      "Epoch 1/5\n",
      "60000/60000 [==============================] - 96s 2ms/step - loss: 0.1440 - acc: 0.9547\n",
      "Epoch 2/5\n",
      "60000/60000 [==============================] - 94s 2ms/step - loss: 0.0483 - acc: 0.9850\n",
      "Epoch 3/5\n",
      "60000/60000 [==============================] - 95s 2ms/step - loss: 0.0362 - acc: 0.9885\n",
      "Epoch 4/5\n",
      "60000/60000 [==============================] - 94s 2ms/step - loss: 0.0295 - acc: 0.9909\n",
      "Epoch 5/5\n",
      "60000/60000 [==============================] - 94s 2ms/step - loss: 0.0239 - acc: 0.9922\n"
     ]
    },
    {
     "data": {
      "text/plain": [
       "<keras.callbacks.History at 0xb32095c50>"
      ]
     },
     "execution_count": 13,
     "metadata": {},
     "output_type": "execute_result"
    },
    {
     "name": "stdout",
     "output_type": "stream",
     "text": [
      "time: 7min 53s\n"
     ]
    }
   ],
   "source": [
    "model.fit(x_train, y_train, batch_size=128, epochs = 5, verbose=1)"
   ]
  },
  {
   "cell_type": "code",
   "execution_count": 20,
   "metadata": {},
   "outputs": [
    {
     "name": "stdout",
     "output_type": "stream",
     "text": [
      "10000/10000 [==============================] - 4s 398us/step\n"
     ]
    },
    {
     "data": {
      "text/plain": [
       "[0.02290183251380513, 0.9941]"
      ]
     },
     "execution_count": 20,
     "metadata": {},
     "output_type": "execute_result"
    },
    {
     "name": "stdout",
     "output_type": "stream",
     "text": [
      "time: 3.98 s\n"
     ]
    }
   ],
   "source": [
    "score = model.evaluate(x_test, y_test, verbose=1)\n",
    "score"
   ]
  },
  {
   "cell_type": "markdown",
   "metadata": {},
   "source": [
    "### Calculate Kappa "
   ]
  },
  {
   "cell_type": "code",
   "execution_count": 38,
   "metadata": {},
   "outputs": [
    {
     "data": {
      "text/plain": [
       "0.9934417229051896"
      ]
     },
     "execution_count": 38,
     "metadata": {},
     "output_type": "execute_result"
    },
    {
     "name": "stdout",
     "output_type": "stream",
     "text": [
      "time: 3.6 s\n"
     ]
    }
   ],
   "source": [
    "from sklearn.metrics import cohen_kappa_score, confusion_matrix\n",
    "\n",
    "y_test_hat = model.predict(x_test)\n",
    "true_label = np.argmax(y_test, axis = 1)\n",
    "pred_label = np.argmax(y_test_hat, axis=1)\n",
    "\n",
    "kappa = cohen_kappa_score(y1=true_label, y2 = pred_label)\n",
    "kappa "
   ]
  },
  {
   "cell_type": "code",
   "execution_count": 39,
   "metadata": {},
   "outputs": [
    {
     "data": {
      "text/plain": [
       "array([[ 978,    0,    0,    0,    0,    0,    1,    1,    0,    0],\n",
       "       [   0, 1135,    0,    0,    0,    0,    0,    0,    0,    0],\n",
       "       [   1,    0, 1030,    0,    0,    0,    0,    1,    0,    0],\n",
       "       [   0,    0,    0, 1010,    0,    0,    0,    0,    0,    0],\n",
       "       [   0,    0,    0,    0,  974,    0,    3,    0,    0,    5],\n",
       "       [   0,    0,    0,    8,    0,  883,    1,    0,    0,    0],\n",
       "       [   3,    1,    0,    0,    1,    1,  951,    0,    1,    0],\n",
       "       [   0,   12,    5,    0,    0,    0,    0, 1009,    1,    1],\n",
       "       [   0,    0,    1,    2,    0,    0,    0,    0,  970,    1],\n",
       "       [   0,    0,    0,    0,    5,    2,    0,    1,    0, 1001]])"
      ]
     },
     "execution_count": 39,
     "metadata": {},
     "output_type": "execute_result"
    },
    {
     "name": "stdout",
     "output_type": "stream",
     "text": [
      "time: 10.9 ms\n"
     ]
    }
   ],
   "source": [
    "confusion_matrix(true_label, pred_label)"
   ]
  },
  {
   "cell_type": "code",
   "execution_count": 68,
   "metadata": {},
   "outputs": [
    {
     "name": "stdout",
     "output_type": "stream",
     "text": [
      "[[ 978    0    0    0    0    0    1    1    0    0]\n",
      " [   0 1135    0    0    0    0    0    0    0    0]\n",
      " [   1    0 1030    0    0    0    0    1    0    0]\n",
      " [   0    0    0 1010    0    0    0    0    0    0]\n",
      " [   0    0    0    0  974    0    3    0    0    5]\n",
      " [   0    0    0    8    0  883    1    0    0    0]\n",
      " [   3    1    0    0    1    1  951    0    1    0]\n",
      " [   0   12    5    0    0    0    0 1009    1    1]\n",
      " [   0    0    1    2    0    0    0    0  970    1]\n",
      " [   0    0    0    0    5    2    0    1    0 1001]]\n"
     ]
    },
    {
     "data": {
      "image/png": "[encoded data removed]",
      "text/plain": [
       "<Figure size 432x288 with 2 Axes>"
      ]
     },
     "metadata": {},
     "output_type": "display_data"
    },
    {
     "name": "stdout",
     "output_type": "stream",
     "text": [
      "time: 398 ms\n"
     ]
    }
   ],
   "source": [
    "import utils\n",
    "class_names = ['0', '1', '2', '3', '4', '5', '6', '7', '8', '9']\n",
    "utils.plot_confusion_matrix(true_label, pred_label, class_names)"
   ]
  },
  {
   "cell_type": "code",
   "execution_count": 33,
   "metadata": {},
   "outputs": [
    {
     "data": {
      "text/plain": [
       "0.9939632470200438"
      ]
     },
     "execution_count": 33,
     "metadata": {},
     "output_type": "execute_result"
    },
    {
     "name": "stdout",
     "output_type": "stream",
     "text": [
      "time: 5.02 ms\n"
     ]
    }
   ],
   "source": [
    "def my_kappa_score(y_test, y_test_hat):\n",
    "    true_label = np.argmax(y_test, axis = 1)\n",
    "    pred_label = np.argmax(y_test_hat, axis=1)\n",
    "    p_observed = (true_label == pred_label).sum()/true_label.shape[0]\n",
    "    p_expected = sum([(true_label == i).sum() * (pred_label == i).sum() / (true_label.shape[0] ** 2) for i in range(2)])\n",
    "    kappa = (p_observed - p_expected) / (1 - p_expected)\n",
    "    return kappa \n",
    "\n",
    "kappa = my_kappa_score(y_test_hat,)\n",
    "kappa"
   ]
  },
  {
   "cell_type": "markdown",
   "metadata": {},
   "source": [
    "### Self-defined kappa  function has little differenct value from confusion_matrix(scilearn library), it is fine due to precision "
   ]
  },
  {
   "cell_type": "markdown",
   "metadata": {},
   "source": [
    "## save the trained model to the local"
   ]
  },
  {
   "cell_type": "code",
   "execution_count": 66,
   "metadata": {},
   "outputs": [
    {
     "name": "stdout",
     "output_type": "stream",
     "text": [
      "time: 285 ms\n"
     ]
    }
   ],
   "source": [
    "model.save(filepath='tained models/0_1_mymodel_5.h5',overwrite=True)"
   ]
  },
  {
   "cell_type": "code",
   "execution_count": 52,
   "metadata": {},
   "outputs": [
    {
     "data": {
      "text/plain": [
       "[0.02290183251380513, 0.9941]"
      ]
     },
     "execution_count": 52,
     "metadata": {},
     "output_type": "execute_result"
    },
    {
     "name": "stdout",
     "output_type": "stream",
     "text": [
      "time: 3.46 s\n"
     ]
    }
   ],
   "source": [
    "\n",
    "score = model.evaluate(x_test, y_test, verbose=0)\n",
    "score"
   ]
  },
  {
   "cell_type": "code",
   "execution_count": 72,
   "metadata": {},
   "outputs": [
    {
     "data": {
      "text/plain": [
       "[0.02290183251380513, 0.9941]"
      ]
     },
     "execution_count": 72,
     "metadata": {},
     "output_type": "execute_result"
    },
    {
     "name": "stdout",
     "output_type": "stream",
     "text": [
      "time: 6.01 s\n"
     ]
    }
   ],
   "source": [
    "from keras.models import load_model\n",
    "model = None \n",
    "model = load_model('tained models/0_1_mymodel_5.h5')\n",
    "score = model.evaluate(x_test, y_test, verbose=0)\n",
    "score"
   ]
  },
  {
   "cell_type": "markdown",
   "metadata": {},
   "source": [
    "### it works for loading a trained model from the saved file "
   ]
  }
 ],
 "metadata": {
  "kernelspec": {
   "display_name": "Python 3",
   "language": "python",
   "name": "python3"
  },
  "language_info": {
   "codemirror_mode": {
    "name": "ipython",
    "version": 3
   },
   "file_extension": ".py",
   "mimetype": "text/x-python",
   "name": "python",
   "nbconvert_exporter": "python",
   "pygments_lexer": "ipython3",
   "version": "3.6.5"
  }
 },
 "nbformat": 4,
 "nbformat_minor": 2
}
