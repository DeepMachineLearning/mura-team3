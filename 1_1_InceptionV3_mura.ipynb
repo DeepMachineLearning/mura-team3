{
 "cells": [
  {
   "cell_type": "code",
   "execution_count": 2,
   "metadata": {},
   "outputs": [
    {
     "name": "stdout",
     "output_type": "stream",
     "text": [
      "The autotime extension is already loaded. To reload it, use:\n",
      "  %reload_ext autotime\n",
      "time: 3.47 ms\n"
     ]
    }
   ],
   "source": [
    "import  matplotlib.pylab as plt\n",
    "import numpy as np\n",
    "from keras.applications.resnet50 import ResNet50\n",
    "from keras.utils import np_utils\n",
    "from keras.preprocessing.image import ImageDataGenerator \n",
    "from keras.models import load_model\n",
    "from sklearn.metrics import cohen_kappa_score, confusion_matrix\n",
    "from utils import *\n",
    "%load_ext autotime"
   ]
  },
  {
   "cell_type": "markdown",
   "metadata": {},
   "source": [
    "### Wrist estimation, use pretrained module, 30 epochs"
   ]
  },
  {
   "cell_type": "code",
   "execution_count": 14,
   "metadata": {},
   "outputs": [
    {
     "name": "stderr",
     "output_type": "stream",
     "text": [
      "INFO:utils.mura_utils:data/MURA-v1.1/valid_x_XR_WRIST.pkl and data/MURA-v1.1/valid_y_XR_WRIST.pkl exist, load directly\n",
      "INFO:utils.util:loading data/MURA-v1.1/valid_x_XR_WRIST.pkl\n",
      "INFO:utils.util:loading data/MURA-v1.1/valid_y_XR_WRIST.pkl\n",
      "INFO:utils.util:prprocess images\n"
     ]
    },
    {
     "name": "stdout",
     "output_type": "stream",
     "text": [
      "Accuracy:[1.1496602607515043, 0.7921092566300596]\n"
     ]
    },
    {
     "data": {
      "text/plain": [
       "0.5689458431011187"
      ]
     },
     "execution_count": 14,
     "metadata": {},
     "output_type": "execute_result"
    },
    {
     "name": "stdout",
     "output_type": "stream",
     "text": [
      "time: 4.43 s\n"
     ]
    }
   ],
   "source": [
    "X_test, Y_test= load_mura_data(data_path='data/MURA-v1.1', bone_name='XR_WRIST',sample='valid',target_size=(height, width))\n",
    "X_test  = X_test.reshape(X_test.shape[0],height,width, 1)\n",
    "Y_test  = np_utils.to_categorical(Y_test)\n",
    "score = model.evaluate(X_test, Y_test, verbose=0)\n",
    "print(f'Accuracy:{score}')\n",
    "\n",
    "Y_test_hat = model.predict(X_test)\n",
    "true_label = np.argmax(Y_test, axis = 1)\n",
    "pred_label = np.argmax(Y_test_hat, axis=1)\n",
    "\n",
    "kappa = cohen_kappa_score(y1=true_label, y2 = pred_label)\n",
    "kappa \n",
    "\n"
   ]
  },
  {
   "cell_type": "markdown",
   "metadata": {},
   "source": [
    "### All images "
   ]
  },
  {
   "cell_type": "code",
   "execution_count": 10,
   "metadata": {},
   "outputs": [
    {
     "name": "stderr",
     "output_type": "stream",
     "text": [
      "INFO:utils.mura_utils:data/MURA-v1.1/valid_x_ALL.pkl and data/MURA-v1.1/valid_y_ALL.pkl exist, load directly\n",
      "INFO:utils.util:loading data/MURA-v1.1/valid_x_ALL.pkl\n",
      "INFO:utils.util:loading data/MURA-v1.1/valid_y_ALL.pkl\n",
      "INFO:utils.util:prprocess images\n"
     ]
    },
    {
     "name": "stdout",
     "output_type": "stream",
     "text": [
      "Accuracy:[1.121540934733014, 0.740068814383099]\n"
     ]
    },
    {
     "data": {
      "text/plain": [
       "0.47376820547844545"
      ]
     },
     "execution_count": 10,
     "metadata": {},
     "output_type": "execute_result"
    },
    {
     "name": "stdout",
     "output_type": "stream",
     "text": [
      "time: 22.8 s\n"
     ]
    }
   ],
   "source": [
    "X_test, Y_test= load_mura_data(data_path='data/MURA-v1.1', bone_name='ALL',sample='valid',target_size=(height, width))\n",
    "X_test  = X_test.reshape(X_test.shape[0],height,width, 1)\n",
    "Y_test  = np_utils.to_categorical(Y_test)\n",
    "score = model.evaluate(X_test, Y_test, verbose=0)\n",
    "print(f'Accuracy:{score}')\n",
    "\n",
    "Y_test_hat = model.predict(X_test)\n",
    "true_label = np.argmax(Y_test, axis = 1)\n",
    "pred_label = np.argmax(Y_test_hat, axis=1)\n",
    "\n",
    "kappa = cohen_kappa_score(y1=true_label, y2 = pred_label)\n",
    "kappa \n"
   ]
  },
  {
   "cell_type": "markdown",
   "metadata": {},
   "source": [
    "### Shoulder "
   ]
  },
  {
   "cell_type": "code",
   "execution_count": 11,
   "metadata": {},
   "outputs": [
    {
     "name": "stderr",
     "output_type": "stream",
     "text": [
      "INFO:utils.mura_utils:reading images from valid, bone name: XR_SHOULDER\n",
      "100% (563 of 563) |######################| Elapsed Time: 0:00:15 Time:  0:00:15\n",
      "INFO:utils.util:saving to data/MURA-v1.1/valid_x_XR_SHOULDER.pkl\n",
      "INFO:utils.mura_utils:writing x_pickcle finishes\n",
      "INFO:utils.util:saving to data/MURA-v1.1/valid_y_XR_SHOULDER.pkl\n",
      "INFO:utils.mura_utils:writing y_pickle finishes\n",
      "INFO:utils.util:prprocess images\n"
     ]
    },
    {
     "name": "stdout",
     "output_type": "stream",
     "text": [
      "Accuracy:[0.9344428931205777, 0.7087033757308024]\n"
     ]
    },
    {
     "data": {
      "text/plain": [
       "0.41644019162948254"
      ]
     },
     "execution_count": 11,
     "metadata": {},
     "output_type": "execute_result"
    },
    {
     "name": "stdout",
     "output_type": "stream",
     "text": [
      "time: 19.9 s\n"
     ]
    }
   ],
   "source": [
    "X_test, Y_test= load_mura_data(data_path='data/MURA-v1.1', bone_name='XR_SHOULDER',sample='valid',target_size=(height, width))\n",
    "X_test  = X_test.reshape(X_test.shape[0],height,width, 1)\n",
    "Y_test  = np_utils.to_categorical(Y_test)\n",
    "score = model.evaluate(X_test, Y_test, verbose=0)\n",
    "print(f'Accuracy:{score}')\n",
    "\n",
    "Y_test_hat = model.predict(X_test)\n",
    "true_label = np.argmax(Y_test, axis = 1)\n",
    "pred_label = np.argmax(Y_test_hat, axis=1)\n",
    "\n",
    "kappa = cohen_kappa_score(y1=true_label, y2 = pred_label)\n",
    "kappa \n",
    "\n"
   ]
  },
  {
   "cell_type": "markdown",
   "metadata": {},
   "source": [
    "### FINGER "
   ]
  },
  {
   "cell_type": "code",
   "execution_count": 12,
   "metadata": {},
   "outputs": [
    {
     "name": "stderr",
     "output_type": "stream",
     "text": [
      "INFO:utils.mura_utils:data/MURA-v1.1/valid_x_XR_FINGER.pkl and data/MURA-v1.1/valid_y_XR_FINGER.pkl exist, load directly\n",
      "INFO:utils.util:loading data/MURA-v1.1/valid_x_XR_FINGER.pkl\n",
      "INFO:utils.util:loading data/MURA-v1.1/valid_y_XR_FINGER.pkl\n",
      "INFO:utils.util:prprocess images\n"
     ]
    },
    {
     "name": "stdout",
     "output_type": "stream",
     "text": [
      "Accuracy:[1.4496657143058074, 0.6529284166151944]\n"
     ]
    },
    {
     "data": {
      "text/plain": [
       "0.32134773567892827"
      ]
     },
     "execution_count": 12,
     "metadata": {},
     "output_type": "execute_result"
    },
    {
     "name": "stdout",
     "output_type": "stream",
     "text": [
      "time: 3.24 s\n"
     ]
    }
   ],
   "source": [
    "X_test, Y_test= load_mura_data(data_path='data/MURA-v1.1', bone_name='XR_FINGER',sample='valid',target_size=(height, width))\n",
    "X_test  = X_test.reshape(X_test.shape[0],height,width, 1)\n",
    "Y_test  = np_utils.to_categorical(Y_test)\n",
    "score = model.evaluate(X_test, Y_test, verbose=0)\n",
    "print(f'Accuracy:{score}')\n",
    "\n",
    "Y_test_hat = model.predict(X_test)\n",
    "true_label = np.argmax(Y_test, axis = 1)\n",
    "pred_label = np.argmax(Y_test_hat, axis=1)\n",
    "\n",
    "kappa = cohen_kappa_score(y1=true_label, y2 = pred_label)\n",
    "kappa \n",
    "\n",
    "\n"
   ]
  },
  {
   "cell_type": "code",
   "execution_count": null,
   "metadata": {},
   "outputs": [],
   "source": []
  }
 ],
 "metadata": {
  "kernelspec": {
   "display_name": "Python 3",
   "language": "python",
   "name": "python3"
  },
  "language_info": {
   "codemirror_mode": {
    "name": "ipython",
    "version": 3
   },
   "file_extension": ".py",
   "mimetype": "text/x-python",
   "name": "python",
   "nbconvert_exporter": "python",
   "pygments_lexer": "ipython3",
   "version": "3.6.3"
  }
 },
 "nbformat": 4,
 "nbformat_minor": 2
}
