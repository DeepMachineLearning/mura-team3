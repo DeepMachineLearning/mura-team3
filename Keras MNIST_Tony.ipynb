{
 "cells": [
  {
   "cell_type": "code",
   "execution_count": 8,
   "metadata": {},
   "outputs": [
    {
     "name": "stdout",
     "output_type": "stream",
     "text": [
      "Train on 60000 samples, validate on 10000 samples\n",
      "Epoch 1/12\n",
      "60000/60000 [==============================] - 10s 173us/step - loss: 0.2513 - acc: 0.9238 - val_loss: 0.1069 - val_acc: 0.9655\n",
      "Epoch 2/12\n",
      "60000/60000 [==============================] - 10s 168us/step - loss: 0.1013 - acc: 0.9688 - val_loss: 0.0776 - val_acc: 0.97670.\n",
      "Epoch 3/12\n",
      "60000/60000 [==============================] - 10s 166us/step - loss: 0.0706 - acc: 0.9782 - val_loss: 0.0811 - val_acc: 0.9758\n",
      "Epoch 4/12\n",
      "60000/60000 [==============================] - 10s 167us/step - loss: 0.0556 - acc: 0.9823 - val_loss: 0.0695 - val_acc: 0.9793\n",
      "Epoch 5/12\n",
      "60000/60000 [==============================] - 10s 167us/step - loss: 0.0462 - acc: 0.9853 - val_loss: 0.0651 - val_acc: 0.9799\n",
      "Epoch 6/12\n",
      "60000/60000 [==============================] - 11s 176us/step - loss: 0.0385 - acc: 0.9871 - val_loss: 0.0600 - val_acc: 0.9828TA: 5s - loss: 0. - ETA: \n",
      "Epoch 7/12\n",
      "60000/60000 [==============================] - 10s 159us/step - loss: 0.0357 - acc: 0.9885 - val_loss: 0.0654 - val_acc: 0.9818\n",
      "Epoch 8/12\n",
      "60000/60000 [==============================] - 9s 155us/step - loss: 0.0308 - acc: 0.9897 - val_loss: 0.0719 - val_acc: 0.9811\n",
      "Epoch 9/12\n",
      "60000/60000 [==============================] - 10s 158us/step - loss: 0.0286 - acc: 0.9906 - val_loss: 0.0758 - val_acc: 0.9800\n",
      "Epoch 10/12\n",
      "60000/60000 [==============================] - 11s 178us/step - loss: 0.0245 - acc: 0.9916 - val_loss: 0.0703 - val_acc: 0.9819\n",
      "Epoch 11/12\n",
      "60000/60000 [==============================] - 10s 171us/step - loss: 0.0243 - acc: 0.9917 - val_loss: 0.0720 - val_acc: 0.9825\n",
      "Epoch 12/12\n",
      "60000/60000 [==============================] - 10s 170us/step - loss: 0.0233 - acc: 0.9922 - val_loss: 0.0706 - val_acc: 0.9827\n",
      "Test loss: 0.07057313003123154\n",
      "Test accuracy: 0.9827\n"
     ]
    }
   ],
   "source": [
    "# importing keras libraries\n",
    "import keras\n",
    "from keras.datasets import mnist\n",
    "from keras.models import Sequential\n",
    "from keras.layers import Dense, Dropout\n",
    "from keras.optimizers import adam\n",
    "\n",
    "# load pre-shuffled data and split between train and test sets\n",
    "(x_train, y_train), (x_test, y_test) = mnist.load_data()\n",
    "\n",
    "# Set initial parameters\n",
    "batch_size = 128\n",
    "num_classes = 10\n",
    "epochs = 12\n",
    "x_train = x_train.reshape(60000, 784)\n",
    "x_test = x_test.reshape(10000, 784)\n",
    "x_train = x_train.astype('float32') #convert data type to float32\n",
    "x_test =x_test.astype('float32')\n",
    "x_train /= 255 # normalize x_train data value to [0-1]\n",
    "x_test /= 255\n",
    "\n",
    "# convert class vectors to binary class matrices\n",
    "y_train = keras.utils.to_categorical(y_train, num_classes) # convert 1-class dimentional array to 10-dimentional matrics\n",
    "y_test = keras.utils.to_categorical(y_test, num_classes)\n",
    "\n",
    "# Define model architecture\n",
    "model = Sequential() # Declare sequential model\n",
    "model.add(Dense(512, activation='relu', input_shape=(784,)))\n",
    "model.add(Dropout(0.2))\n",
    "model.add(Dense(512, activation='relu'))\n",
    "model.add(Dropout(0.2))\n",
    "model.add(Dense(num_classes, activation='softmax'))\n",
    "# can print out model summary with model.summary()\n",
    "\n",
    "# Complie model\n",
    "model.compile(loss='categorical_crossentropy',\n",
    "              optimizer=adam(),\n",
    "              metrics=['accuracy'])\n",
    "\n",
    "# Fit model on training data\n",
    "history = model.fit(x_train, y_train,\n",
    "                    batch_size=batch_size,\n",
    "                    epochs=epochs,\n",
    "                    verbose=1,\n",
    "                    validation_data=(x_test, y_test))\n",
    "\n",
    "# Evaluate model on test data\n",
    "score = model.evaluate(x_test, y_test, verbose=0)\n",
    "print('Test loss:', score[0])\n",
    "print('Test accuracy:', score[1])"
   ]
  },
  {
   "cell_type": "code",
   "execution_count": null,
   "metadata": {},
   "outputs": [],
   "source": []
  }
 ],
 "metadata": {
  "kernelspec": {
   "display_name": "Python 3",
   "language": "python",
   "name": "python3"
  },
  "language_info": {
   "codemirror_mode": {
    "name": "ipython",
    "version": 3
   },
   "file_extension": ".py",
   "mimetype": "text/x-python",
   "name": "python",
   "nbconvert_exporter": "python",
   "pygments_lexer": "ipython3",
   "version": "3.6.5"
  }
 },
 "nbformat": 4,
 "nbformat_minor": 2
}
