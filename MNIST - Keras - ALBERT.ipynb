{
 "cells": [
  {
   "cell_type": "code",
   "execution_count": 1,
   "metadata": {},
   "outputs": [
    {
     "name": "stderr",
     "output_type": "stream",
     "text": [
      "d:\\Anaconda3\\envs\\tensorflow\\lib\\site-packages\\h5py\\__init__.py:36: FutureWarning: Conversion of the second argument of issubdtype from `float` to `np.floating` is deprecated. In future, it will be treated as `np.float64 == np.dtype(float).type`.\n",
      "  from ._conv import register_converters as _register_converters\n",
      "Using TensorFlow backend.\n"
     ]
    }
   ],
   "source": [
    "# import nessary packges\n",
    "from keras.models import Sequential\n",
    "from keras.layers import MaxPooling2D,Flatten,Dense,Conv2D,Dropout\n",
    "from keras.preprocessing.image import ImageDataGenerator\n",
    "from keras.callbacks import EarlyStopping\n",
    "\n",
    "from keras.preprocessing.image import ImageDataGenerator\n"
   ]
  },
  {
   "cell_type": "code",
   "execution_count": 2,
   "metadata": {},
   "outputs": [],
   "source": [
    "#build the CNN\n",
    "model = Sequential()"
   ]
  },
  {
   "cell_type": "code",
   "execution_count": 3,
   "metadata": {},
   "outputs": [],
   "source": [
    "#begin to add the first CNN layer\n",
    "width, height = 28 , 28\n",
    "color = 1\n",
    "feature_detector = 32\n",
    "detector_size = (3,3)\n",
    "\n",
    "model.add(Conv2D(feature_detector,detector_size,input_shape = (width,height,color),activation= 'relu'))"
   ]
  },
  {
   "cell_type": "code",
   "execution_count": 5,
   "metadata": {},
   "outputs": [],
   "source": [
    "#MaxPooling first CNN\n",
    "pool_size = (2,2)\n",
    "model.add(MaxPooling2D(pool_size))"
   ]
  },
  {
   "cell_type": "code",
   "execution_count": 6,
   "metadata": {},
   "outputs": [],
   "source": [
    "#Add the 2nd CNN layer\n",
    "feature_detector2 = 16\n",
    "\n",
    "model.add(Conv2D(feature_detector2,detector_size,activation='relu'))"
   ]
  },
  {
   "cell_type": "code",
   "execution_count": 7,
   "metadata": {},
   "outputs": [],
   "source": [
    "#MaxPooling 2nd CNN\n",
    "model.add(MaxPooling2D(pool_size))"
   ]
  },
  {
   "cell_type": "code",
   "execution_count": 8,
   "metadata": {},
   "outputs": [],
   "source": [
    "#Flatten\n",
    "model.add(Flatten())"
   ]
  },
  {
   "cell_type": "code",
   "execution_count": 9,
   "metadata": {},
   "outputs": [],
   "source": [
    "#Add to ANN\n",
    "node_1 = 64\n",
    "node_2= 64\n",
    "n_class = 10\n",
    "\n",
    "model.add(Dense(node_1,activation='relu'))\n",
    "model.add(Dense(node_2,activation='relu'))\n",
    "model.add(Dense( n_class,activation='softmax'))"
   ]
  },
  {
   "cell_type": "code",
   "execution_count": 10,
   "metadata": {},
   "outputs": [],
   "source": [
    "#compile \n",
    "model.compile(optimizer='adam',loss = 'categorical_crossentropy',metrics = ['accuracy'])"
   ]
  },
  {
   "cell_type": "code",
   "execution_count": 11,
   "metadata": {},
   "outputs": [],
   "source": [
    "#Create generator\n",
    "train_gen = ImageDataGenerator(\n",
    "        rescale=1./255,\n",
    "        shear_range=0.2,\n",
    "        zoom_range=0.2,\n",
    "        horizontal_flip=True)\n",
    "test_gen = ImageDataGenerator(rescale=1./255)"
   ]
  },
  {
   "cell_type": "code",
   "execution_count": 12,
   "metadata": {},
   "outputs": [
    {
     "name": "stdout",
     "output_type": "stream",
     "text": [
      "Found 60000 images belonging to 10 classes.\n",
      "Found 10000 images belonging to 10 classes.\n"
     ]
    }
   ],
   "source": [
    "#Go to the image\n",
    "test_path = r'D:\\Google Drive\\Deep Learning Dataset\\mnist_png (1)\\mnist_png\\testing'\n",
    "train_path = r'D:\\Google Drive\\Deep Learning Dataset\\mnist_png (1)\\mnist_png\\training'\n",
    "\n",
    "train = train_gen.flow_from_directory(\n",
    "                                    train_path,\n",
    "                                    target_size=(width, height), \n",
    "                                    batch_size=64,\n",
    "                                    class_mode='categorical',\n",
    "                                    color_mode='grayscale' )\n",
    "test = test_gen.flow_from_directory(\n",
    "                                    test_path,\n",
    "                                    target_size=(width, height), \n",
    "                                    batch_size=64,\n",
    "                                    class_mode='categorical',\n",
    "                                    color_mode='grayscale')"
   ]
  },
  {
   "cell_type": "code",
   "execution_count": 16,
   "metadata": {},
   "outputs": [],
   "source": [
    "# Define early_stopping_monitor\n",
    "early_stopping_monitor = EarlyStopping(patience = 2) #it means the training will stop after two epochs without no improvement"
   ]
  },
  {
   "cell_type": "code",
   "execution_count": 17,
   "metadata": {},
   "outputs": [
    {
     "name": "stdout",
     "output_type": "stream",
     "text": [
      "Epoch 1/12\n",
      "5000/5000 [==============================] - 146s 29ms/step - loss: 0.0657 - acc: 0.9791 - val_loss: 0.0611 - val_acc: 0.9820\n",
      "Epoch 2/12\n",
      "5000/5000 [==============================] - 144s 29ms/step - loss: 0.0606 - acc: 0.9805 - val_loss: 0.0569 - val_acc: 0.9822\n",
      "Epoch 3/12\n",
      "5000/5000 [==============================] - 144s 29ms/step - loss: 0.0556 - acc: 0.9822 - val_loss: 0.0557 - val_acc: 0.9833\n",
      "Epoch 4/12\n",
      "5000/5000 [==============================] - 144s 29ms/step - loss: 0.0520 - acc: 0.9830 - val_loss: 0.0505 - val_acc: 0.9840\n",
      "Epoch 5/12\n",
      "5000/5000 [==============================] - 143s 29ms/step - loss: 0.0495 - acc: 0.9841 - val_loss: 0.0437 - val_acc: 0.9868\n",
      "Epoch 6/12\n",
      "5000/5000 [==============================] - 145s 29ms/step - loss: 0.0470 - acc: 0.9847 - val_loss: 0.0470 - val_acc: 0.9860\n",
      "Epoch 7/12\n",
      "5000/5000 [==============================] - 145s 29ms/step - loss: 0.0447 - acc: 0.9855 - val_loss: 0.0457 - val_acc: 0.9866\n"
     ]
    },
    {
     "data": {
      "text/plain": [
       "<keras.callbacks.History at 0x2dec79c19e8>"
      ]
     },
     "execution_count": 17,
     "metadata": {},
     "output_type": "execute_result"
    }
   ],
   "source": [
    "#Begin to fit\n",
    "model.fit_generator(\n",
    "                    train,\n",
    "                    steps_per_epoch=5000, \n",
    "                    epochs=12, \n",
    "                    callbacks= [early_stopping_monitor],\n",
    "                    validation_data=test,\n",
    "                    validation_steps=4000\n",
    "                    )\n"
   ]
  }
 ],
 "metadata": {
  "kernelspec": {
   "display_name": "Python 3",
   "language": "python",
   "name": "python3"
  },
  "language_info": {
   "codemirror_mode": {
    "name": "ipython",
    "version": 3
   },
   "file_extension": ".py",
   "mimetype": "text/x-python",
   "name": "python",
   "nbconvert_exporter": "python",
   "pygments_lexer": "ipython3",
   "version": "3.5.5"
  }
 },
 "nbformat": 4,
 "nbformat_minor": 2
}
