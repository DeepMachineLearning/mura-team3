{
 "cells": [
  {
   "cell_type": "code",
   "execution_count": 1,
   "metadata": {},
   "outputs": [
    {
     "name": "stderr",
     "output_type": "stream",
     "text": [
      "/home/ubuntu/anaconda3/envs/tensorflow_p36/lib/python3.6/site-packages/h5py/__init__.py:36: FutureWarning: Conversion of the second argument of issubdtype from `float` to `np.floating` is deprecated. In future, it will be treated as `np.float64 == np.dtype(float).type`.\n",
      "  from ._conv import register_converters as _register_converters\n",
      "Using TensorFlow backend.\n"
     ]
    },
    {
     "name": "stdout",
     "output_type": "stream",
     "text": [
      "Train on 54000 samples, validate on 6000 samples\n",
      "Epoch 1/12\n",
      "54000/54000 [==============================] - 140s 3ms/step - loss: 0.3004 - acc: 0.9083 - val_loss: 0.0581 - val_acc: 0.9845\n",
      "Epoch 2/12\n",
      "54000/54000 [==============================] - 135s 3ms/step - loss: 0.1014 - acc: 0.9695 - val_loss: 0.0433 - val_acc: 0.9898\n",
      "Epoch 3/12\n",
      "54000/54000 [==============================] - 134s 2ms/step - loss: 0.0770 - acc: 0.9762 - val_loss: 0.0413 - val_acc: 0.9892\n",
      "Epoch 4/12\n",
      "54000/54000 [==============================] - 134s 2ms/step - loss: 0.0624 - acc: 0.9813 - val_loss: 0.0394 - val_acc: 0.9900\n",
      "Epoch 5/12\n",
      "54000/54000 [==============================] - 132s 2ms/step - loss: 0.0537 - acc: 0.9833 - val_loss: 0.0397 - val_acc: 0.9895\n",
      "Epoch 6/12\n",
      "54000/54000 [==============================] - 134s 2ms/step - loss: 0.0477 - acc: 0.9845 - val_loss: 0.0350 - val_acc: 0.9893\n",
      "Epoch 7/12\n",
      "54000/54000 [==============================] - 134s 2ms/step - loss: 0.0435 - acc: 0.9864 - val_loss: 0.0302 - val_acc: 0.9917\n",
      "Epoch 8/12\n",
      "54000/54000 [==============================] - 134s 2ms/step - loss: 0.0374 - acc: 0.9881 - val_loss: 0.0327 - val_acc: 0.9908\n",
      "Epoch 9/12\n",
      "54000/54000 [==============================] - 132s 2ms/step - loss: 0.0373 - acc: 0.9874 - val_loss: 0.0337 - val_acc: 0.9917\n",
      "Epoch 10/12\n",
      "54000/54000 [==============================] - 134s 2ms/step - loss: 0.0313 - acc: 0.9895 - val_loss: 0.0272 - val_acc: 0.9937\n",
      "Epoch 11/12\n",
      "54000/54000 [==============================] - 134s 2ms/step - loss: 0.0310 - acc: 0.9898 - val_loss: 0.0288 - val_acc: 0.9930\n",
      "Epoch 12/12\n",
      "54000/54000 [==============================] - 134s 2ms/step - loss: 0.0285 - acc: 0.9905 - val_loss: 0.0313 - val_acc: 0.9918\n",
      "10000/10000 [==============================] - 7s 675us/step\n"
     ]
    },
    {
     "data": {
      "text/plain": [
       "[0.03090221853870753, 0.9911]"
      ]
     },
     "execution_count": 1,
     "metadata": {},
     "output_type": "execute_result"
    }
   ],
   "source": [
    "from keras.datasets import mnist # subroutines for fetching the MNIST dataset\n",
    "from keras.models import Model # basic class for specifying and training a neural network\n",
    "from keras.layers import Input, Dense, Flatten, Convolution2D, MaxPooling2D, Dropout\n",
    "from keras.utils import np_utils # utilities for one-hot encoding of ground truth values\n",
    "\n",
    "batch_size = 128 # in each iteration, we consider 128 training examples at once\n",
    "num_epochs = 12 # we iterate twelve times over the entire training set\n",
    "kernel_size = 3 # we will use 3x3 kernels throughout\n",
    "pool_size = 2 # we will use 2x2 pooling throughout\n",
    "conv_depth = 32 # use 32 kernels in both convolutional layers\n",
    "drop_prob_1 = 0.25 # dropout after pooling with probability 0.25\n",
    "drop_prob_2 = 0.5 # dropout in the FC layer with probability 0.5\n",
    "hidden_size = 128 # there will be 128 neurons in both hidden layers\n",
    "\n",
    "num_train = 60000 # there are 60000 training examples in MNIST\n",
    "num_test = 10000 # there are 10000 test examples in MNIST\n",
    "\n",
    "height, width, depth = 28, 28, 1 # MNIST images are 28x28 and greyscale\n",
    "num_classes = 10 # there are 10 classes (1 per digit)\n",
    "\n",
    "(X_train, y_train), (X_test, y_test) = mnist.load_data() # fetch MNIST data\n",
    "\n",
    "X_train = X_train.reshape(X_train.shape[0], height, width, depth)\n",
    "X_test = X_test.reshape(X_test.shape[0], height, width, depth)\n",
    "X_train = X_train.astype('float32')\n",
    "X_test = X_test.astype('float32')\n",
    "X_train /= 255 # Normalise data to [0, 1] range\n",
    "X_test /= 255 # Normalise data to [0, 1] range\n",
    "\n",
    "Y_train = np_utils.to_categorical(y_train, num_classes) # One-hot encode the labels\n",
    "Y_test = np_utils.to_categorical(y_test, num_classes) # One-hot encode the labels\n",
    "\n",
    "inp = Input(shape=(height, width, depth)) # N.B. TensorFlow back-end expects channel dimension last\n",
    "# Conv [32] -> Conv [32] -> Pool (with dropout on the pooling layer)\n",
    "conv_1 = Convolution2D(conv_depth, (kernel_size, kernel_size), padding='same', activation='relu')(inp)\n",
    "conv_2 = Convolution2D(conv_depth, (kernel_size, kernel_size), padding='same', activation='relu')(conv_1)\n",
    "pool_1 = MaxPooling2D(pool_size=(pool_size, pool_size))(conv_2)\n",
    "drop_1 = Dropout(drop_prob_1)(pool_1)\n",
    "flat = Flatten()(drop_1)\n",
    "hidden = Dense(hidden_size, activation='relu')(flat) # Hidden ReLU layer\n",
    "drop = Dropout(drop_prob_2)(hidden)\n",
    "out = Dense(num_classes, activation='softmax')(drop) # Output softmax layer\n",
    "\n",
    "model = Model(inputs=inp, outputs=out) # To define a model, just specify its input and output layers\n",
    "\n",
    "model.compile(loss='categorical_crossentropy', # using the cross-entropy loss function\n",
    "              optimizer='adam', # using the Adam optimiser\n",
    "              metrics=['accuracy']) # reporting the accuracy\n",
    "\n",
    "model.fit(X_train, Y_train, # Train the model using the training set...\n",
    "          batch_size=batch_size, epochs=num_epochs,\n",
    "          verbose=1, validation_split=0.1) # ...holding out 10% of the data for validation\n",
    "model.evaluate(X_test, Y_test, verbose=1) # Evaluate the trained model on the test set!"
   ]
  }
 ],
 "metadata": {
  "kernelspec": {
   "display_name": "Environment (conda_tensorflow_p36)",
   "language": "python",
   "name": "conda_tensorflow_p36"
  },
  "language_info": {
   "codemirror_mode": {
    "name": "ipython",
    "version": 3
   },
   "file_extension": ".py",
   "mimetype": "text/x-python",
   "name": "python",
   "nbconvert_exporter": "python",
   "pygments_lexer": "ipython3",
   "version": "3.6.4"
  }
 },
 "nbformat": 4,
 "nbformat_minor": 2
}
